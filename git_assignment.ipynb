{
 "cells": [
  {
   "cell_type": "code",
   "execution_count": 1,
   "metadata": {
    "collapsed": true
   },
   "outputs": [
    {
     "name": "stdout",
     "output_type": "stream",
     "text": [
      "Cloning into 'BDSF'...\r\n",
      "remote: Enumerating objects: 62, done.\u001B[K\r\n",
      "remote: Counting objects: 100% (62/62), done.\u001B[K\r\n",
      "remote: Compressing objects: 100% (26/26), done.\u001B[K\r\n",
      "remote: Total 62 (delta 14), reused 56 (delta 12), pack-reused 0\u001B[K\r\n",
      "Receiving objects: 100% (62/62), 6.07 KiB | 2.02 MiB/s, done.\r\n",
      "Resolving deltas: 100% (14/14), done.\r\n"
     ]
    }
   ],
   "source": [
    " !git clone https://github.com/smirs/BDSF.git\n"
   ]
  },
  {
   "cell_type": "code",
   "execution_count": null,
   "outputs": [],
   "source": [],
   "metadata": {
    "collapsed": false,
    "pycharm": {
     "name": "#%%\n"
    }
   }
  }
 ],
 "metadata": {
  "kernelspec": {
   "display_name": "Python 3",
   "language": "python",
   "name": "python3"
  },
  "language_info": {
   "codemirror_mode": {
    "name": "ipython",
    "version": 2
   },
   "file_extension": ".py",
   "mimetype": "text/x-python",
   "name": "python",
   "nbconvert_exporter": "python",
   "pygments_lexer": "ipython2",
   "version": "2.7.6"
  }
 },
 "nbformat": 4,
 "nbformat_minor": 0
}